{
 "cells": [
  {
   "cell_type": "markdown",
   "id": "major-hawaiian",
   "metadata": {},
   "source": [
    "# Building the MVP music recommendator"
   ]
  },
  {
   "cell_type": "code",
   "execution_count": 50,
   "id": "atmospheric-cigarette",
   "metadata": {},
   "outputs": [],
   "source": [
    "# import libraries\n",
    "import pandas as pd\n",
    "from random import randint"
   ]
  },
  {
   "cell_type": "code",
   "execution_count": 134,
   "id": "naval-exception",
   "metadata": {},
   "outputs": [
    {
     "name": "stdout",
     "output_type": "stream",
     "text": [
      "500\n",
      "100\n",
      "100\n"
     ]
    }
   ],
   "source": [
    "# import songs as dataframes\n",
    "greatest = pd.read_csv(\"greatest.csv\")\n",
    "alltime = pd.read_csv(\"alltime.csv\")\n",
    "hot100 = pd.read_csv(\"hot100.csv\")\n",
    "print(len(greatest))\n",
    "print(len(alltime))\n",
    "print(len(hot100))"
   ]
  },
  {
   "cell_type": "code",
   "execution_count": 138,
   "id": "structured-prime",
   "metadata": {},
   "outputs": [],
   "source": [
    "# function to recommend songs\n",
    "def recommend_song():\n",
    "    user = input('Enter a song title: ')\n",
    "    song_in_hot100 = False\n",
    "    song_in_greatest = False\n",
    "    song_in_alltime = False\n",
    "    isartist = False\n",
    "    if user.lower() in hot100['title'].values:\n",
    "        song_in_hot100 = True\n",
    "    elif user.lower() in greatest['title'].values:\n",
    "        song_in_greatest = True\n",
    "    elif user.lower() in alltime['title'].values:\n",
    "        song_in_alltime = True\n",
    "    elif user.lower() in hot100['artist'].values or user.lower()in greatest['artist'].values or user.lower()in alltime['artist'].values:\n",
    "        isartist = True\n",
    "    else:\n",
    "        print(\"I don't recognize this song.\\nLet me recommend you a top chart hit!\")\n",
    "        print('---------------------------')\n",
    "        r = randint(0, 99)\n",
    "        title = hot100.iloc[r].values[0]\n",
    "        artist = hot100.iloc[r].values[1];\n",
    "        print(\"Title: \" + str(title))\n",
    "        print(\"Artist: \" + str(artist))\n",
    "        print()\n",
    "        again = input(\"Do you want to try it again? \")\n",
    "        if again.lower() == 'yes':\n",
    "            print(\"Here we go\")\n",
    "            recommend_song()\n",
    "        else:\n",
    "            print(\"Thanks for using our service\")\n",
    "        \n",
    "\n",
    "       \n",
    "    if song_in_hot100 == True:\n",
    "        r = randint(0, 99)\n",
    "        print()\n",
    "        print('That song is currently in the hot100!\\nCheck this tune out:\\n')\n",
    "        print('---------------------------')\n",
    "        title = hot100.iloc[r].values[0]\n",
    "        artist = hot100.iloc[r].values[1];\n",
    "        print(\"Title: \" + str(title))\n",
    "        print(\"Artist: \" + str(artist))\n",
    "              \n",
    "    if song_in_greatest == True:\n",
    "        r = randint(0, 499)\n",
    "        print()\n",
    "        print('That song is one of the rolling stones top 500 songs of all time!\\nYou might also like this one:\\n')\n",
    "        print('---------------------------')\n",
    "        title = greatest.iloc[r].values[0]\n",
    "        artist = greatest.iloc[r].values[1];\n",
    "        print(\"Title: \" + str(title))\n",
    "        print(\"Artist: \" + str(artist))\n",
    "        \n",
    "    if song_in_alltime == True:\n",
    "        r = randint(0, 99)\n",
    "        print()\n",
    "        print('That song is one of the greatest of all time!\\nI can recommend this one as well:\\n')\n",
    "        print('---------------------------')\n",
    "        title = alltime.iloc[r].values[0]\n",
    "        artist = alltime.iloc[r].values[1];\n",
    "        print(\"Title: \" + str(title))\n",
    "        print(\"Artist: \" + str(artist))   \n",
    "        \n",
    "    if isartist == True:\n",
    "        print(\"Hm, looks like you entered an artist. Please enter a song\")"
   ]
  },
  {
   "cell_type": "code",
   "execution_count": 140,
   "id": "infectious-chapter",
   "metadata": {},
   "outputs": [
    {
     "name": "stdout",
     "output_type": "stream",
     "text": [
      "Enter a song title: \n",
      "I don't recognize this song.\n",
      "Let me recommend you a top chart hit!\n",
      "---------------------------\n",
      "Title: richer\n",
      "Artist: rod wave featuring polo g\n",
      "\n",
      "Do you want to try it again? \n",
      "Thanks for using our service\n"
     ]
    }
   ],
   "source": [
    "recommend_song()"
   ]
  },
  {
   "cell_type": "code",
   "execution_count": null,
   "id": "nuclear-highlight",
   "metadata": {},
   "outputs": [],
   "source": []
  }
 ],
 "metadata": {
  "kernelspec": {
   "display_name": "Python 3",
   "language": "python",
   "name": "python3"
  },
  "language_info": {
   "codemirror_mode": {
    "name": "ipython",
    "version": 3
   },
   "file_extension": ".py",
   "mimetype": "text/x-python",
   "name": "python",
   "nbconvert_exporter": "python",
   "pygments_lexer": "ipython3",
   "version": "3.9.2"
  }
 },
 "nbformat": 4,
 "nbformat_minor": 5
}
